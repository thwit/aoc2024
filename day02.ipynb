{
 "cells": [
  {
   "cell_type": "code",
   "execution_count": 19,
   "metadata": {},
   "outputs": [
    {
     "data": {
      "text/plain": [
       "(224, 293)"
      ]
     },
     "execution_count": 19,
     "metadata": {},
     "output_type": "execute_result"
    }
   ],
   "source": [
    "import numpy as np\n",
    "import utils\n",
    "\n",
    "def a(input):\n",
    "    a = [[int(x) for x in line.split()] for line in input]\n",
    "\n",
    "    counter = 0\n",
    "\n",
    "    for row in a:\n",
    "        cond1 = (sorted(row) == row) or (sorted(row, reverse=True) == row)\n",
    "        cond2 = np.abs(np.diff(row)).max() <= 3 \n",
    "        cond3 = 0 not in np.diff(row)\n",
    "\n",
    "        if cond1 and cond2 and cond3:\n",
    "            counter += 1\n",
    "\n",
    "    return counter\n",
    "\n",
    "def b(input):\n",
    "    a = [[int(x) for x in line.split()] for line in input]\n",
    "\n",
    "    counter = 0\n",
    "\n",
    "    for row in a:\n",
    "        cond1 = (sorted(row) == row) or (sorted(row, reverse=True) == row)\n",
    "        cond2 = np.abs(np.diff(row)).max() <= 3 \n",
    "        cond3 = 0 not in np.diff(row)\n",
    "\n",
    "        if cond1 and cond2 and cond3:\n",
    "            counter += 1\n",
    "        else:\n",
    "            for index in range(len(row)):\n",
    "                b = row[:index] + row[index+1 :]\n",
    "                \n",
    "                cond1 = (sorted(b) == b) or (sorted(b, reverse=True) == b)\n",
    "                cond2 = np.abs(np.diff(b)).max() <= 3 \n",
    "                cond3 = 0 not in np.diff(b)\n",
    "                if cond1 and cond2 and cond3:\n",
    "                    counter += 1\n",
    "                    break\n",
    "\n",
    "    return counter\n",
    "\n",
    "\n",
    "    \n",
    "a(utils.read_file_content('day2')), b(utils.read_file_content('day2')),"
   ]
  }
 ],
 "metadata": {
  "kernelspec": {
   "display_name": ".venv",
   "language": "python",
   "name": "python3"
  },
  "language_info": {
   "codemirror_mode": {
    "name": "ipython",
    "version": 3
   },
   "file_extension": ".py",
   "mimetype": "text/x-python",
   "name": "python",
   "nbconvert_exporter": "python",
   "pygments_lexer": "ipython3",
   "version": "3.11.2"
  }
 },
 "nbformat": 4,
 "nbformat_minor": 2
}
