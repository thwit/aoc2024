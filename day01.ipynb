{
 "cells": [
  {
   "cell_type": "code",
   "execution_count": null,
   "metadata": {},
   "outputs": [
    {
     "name": "stderr",
     "output_type": "stream",
     "text": [
      "C:\\Users\\Witting\\AppData\\Local\\Temp\\ipykernel_8160\\3124252902.py:7: DeprecationWarning: Calling np.sum(generator) is deprecated, and in the future will give a different result. Use np.sum(np.fromiter(generator)) or the python sum builtin instead.\n",
      "  return np.sum(a_ * np.sum(b==a_) for a_ in a)\n"
     ]
    },
    {
     "data": {
      "text/plain": [
       "np.int64(26593248)"
      ]
     },
     "execution_count": 5,
     "metadata": {},
     "output_type": "execute_result"
    }
   ],
   "source": [
    "import utils\n",
    "import numpy as np\n",
    "\n",
    "def a(input):\n",
    "    a = [int(x.split()[0]) for x in input]\n",
    "    b = [int(x.split()[1]) for x in input]\n",
    "\n",
    "    a = np.array(sorted(a))\n",
    "    b = np.array(sorted(b))\n",
    "    return np.sum(np.abs(a-b))\n",
    "\n",
    "def b(input):\n",
    "    a = [int(x.split()[0]) for x in input]\n",
    "    b = [int(x.split()[1]) for x in input]\n",
    "\n",
    "    a = np.array(sorted(a))\n",
    "    b =  np.array(sorted(b))\n",
    "    return np.sum(a_ * np.sum(b==a_) for a_ in a)\n",
    "\n",
    "a(utils.read_file_content('day1'))"
   ]
  }
 ],
 "metadata": {
  "kernelspec": {
   "display_name": ".venv",
   "language": "python",
   "name": "python3"
  },
  "language_info": {
   "codemirror_mode": {
    "name": "ipython",
    "version": 3
   },
   "file_extension": ".py",
   "mimetype": "text/x-python",
   "name": "python",
   "nbconvert_exporter": "python",
   "pygments_lexer": "ipython3",
   "version": "3.11.2"
  }
 },
 "nbformat": 4,
 "nbformat_minor": 2
}
