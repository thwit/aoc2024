{
 "cells": [
  {
   "cell_type": "code",
   "execution_count": null,
   "metadata": {},
   "outputs": [],
   "source": [
    "import numpy as np\n",
    "import utils"
   ]
  },
  {
   "cell_type": "code",
   "execution_count": 50,
   "metadata": {},
   "outputs": [
    {
     "data": {
      "text/plain": [
       "(20, None)"
      ]
     },
     "execution_count": 50,
     "metadata": {},
     "output_type": "execute_result"
    }
   ],
   "source": [
    "def valid(s):\n",
    "    s = ''.join(s)\n",
    "    return \"XMAS\" == s or \"XMAS\" == s[::-1]\n",
    "\n",
    "\n",
    "\n",
    "def diagonals_gt_4(matrix):\n",
    "    rows = len(matrix)\n",
    "    cols = len(matrix[0])\n",
    "    diagonals = []\n",
    "\n",
    "    # Collect top-left to bottom-right diagonals\n",
    "    for d in range(rows + cols - 1):\n",
    "        diag = []\n",
    "        for i in range(max(0, d - cols + 1), min(d + 1, rows)):\n",
    "            j = d - i\n",
    "            if 0 <= j < cols:\n",
    "                diag.append(matrix[i][j])\n",
    "        if diag:\n",
    "            diagonals.append(diag)\n",
    "\n",
    "    # Collect top-right to bottom-left diagonals\n",
    "    for d in range(-rows + 1, cols):\n",
    "        diag = []\n",
    "        for i in range(max(0, -d), min(rows, cols - d)):\n",
    "            j = i + d\n",
    "            if 0 <= j < cols:\n",
    "                diag.append(matrix[i][j])\n",
    "        if diag:\n",
    "            diagonals.append(diag)\n",
    "\n",
    "    return diagonals\n",
    "\n",
    "def a(input):\n",
    "    horizontals = np.array([list(line) for line in input])\n",
    "    verticals = np.flip(horizontals, axis=0)\n",
    "    diagonals = diagonals_gt_4(horizontals)\n",
    "    diagonals.extend(diagonals_gt_4(verticals))\n",
    "\n",
    "    horz = 0\n",
    "    for line in horizontals:\n",
    "        for i in range(len(line)-4):\n",
    "            horz += valid(line[i:i+4])\n",
    "    \n",
    "\n",
    "    verz = 0\n",
    "    for line in verticals:\n",
    "        for i in range(len(line)-4):\n",
    "            verz += valid(line[i:i+4])\n",
    "\n",
    "    diaz = 0\n",
    "    for line in diagonals:\n",
    "        for i in range(len(line)-4):\n",
    "            diaz += valid(line[i:i+4])\n",
    "    \n",
    "    return horz+verz+diaz\n",
    "\n",
    "\n",
    "\n",
    "def b(input):\n",
    "    pass\n",
    "\n",
    "\n",
    "\n",
    "a(utils.read_file_content('day4')), b(utils.read_file_content('day4')),"
   ]
  },
  {
   "cell_type": "code",
   "execution_count": null,
   "metadata": {},
   "outputs": [
    {
     "name": "stdout",
     "output_type": "stream",
     "text": [
      "[[1], [2, 4], [3, 5, 7], [6, 8], [9], [7], [4, 8], [1, 5, 9], [2, 6], [3]]\n"
     ]
    }
   ],
   "source": [
    "\n",
    "def diagonals_gt_4(matrix):\n",
    "    rows = len(matrix)\n",
    "    cols = len(matrix[0])\n",
    "    diagonals = []\n",
    "\n",
    "    # Collect top-left to bottom-right diagonals\n",
    "    for d in range(rows + cols - 1):\n",
    "        diag = []\n",
    "        for i in range(max(0, d - cols + 1), min(d + 1, rows)):\n",
    "            j = d - i\n",
    "            if 0 <= j < cols:\n",
    "                diag.append(matrix[i][j])\n",
    "        if diag:\n",
    "            diagonals.append(diag)\n",
    "\n",
    "    # Collect top-right to bottom-left diagonals\n",
    "    for d in range(-rows + 1, cols):\n",
    "        diag = []\n",
    "        for i in range(max(0, -d), min(rows, cols - d)):\n",
    "            j = i + d\n",
    "            if 0 <= j < cols:\n",
    "                diag.append(matrix[i][j])\n",
    "        if diag:\n",
    "            diagonals.append(diag)\n",
    "\n",
    "    return diagonals\n",
    "\n",
    "# Example usage\n",
    "matrix = [\n",
    "    [1, 2, 3],\n",
    "    [4, 5, 6],\n",
    "    [7, 8, 9]\n",
    "]\n",
    "\n",
    "result = diagonals_gt_4(matrix)\n",
    "print(result)"
   ]
  },
  {
   "cell_type": "code",
   "execution_count": null,
   "metadata": {},
   "outputs": [],
   "source": []
  }
 ],
 "metadata": {
  "kernelspec": {
   "display_name": ".venv",
   "language": "python",
   "name": "python3"
  },
  "language_info": {
   "codemirror_mode": {
    "name": "ipython",
    "version": 3
   },
   "file_extension": ".py",
   "mimetype": "text/x-python",
   "name": "python",
   "nbconvert_exporter": "python",
   "pygments_lexer": "ipython3",
   "version": "3.11.2"
  }
 },
 "nbformat": 4,
 "nbformat_minor": 2
}
