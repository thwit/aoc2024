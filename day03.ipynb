{
 "cells": [
  {
   "cell_type": "code",
   "execution_count": 11,
   "metadata": {},
   "outputs": [
    {
     "name": "stdout",
     "output_type": "stream",
     "text": [
      "@why(692,996)[&}}^where(81,407)mul(247,89):[&[{<mul(980,958),?mul(529,895)!<#~!$&~when()+mul(519,986)what())#mul(710,934)%??*'!<mul(813,338)! +$what()<do()who()#]where():(mul(909,368)mul(259,743)''when()^?from()]select()#;mul(227,252)<mul(118,202)-&!(when(806,911)~]who(58,451)- mul(135,37);mul(75,773)?~when()where()]mul(93,321)where(),where()!when(769,449)where(616,323)@&mul(489,237)&;do()<mul(803,622)mul(616,264)!from()why()~@],@from()mul(499,593)#<?/&(when()':mul(237,54)&-],+mul(856,447)})select()mul(540,283)do())[when()![mul(681,521)when(130,722)@ ->)<,mul(658,134)what()who()}+}@/mul(458,625)when()}&mul(390,728)do()%@mul(328,216) >what()]when()mul(788,804)mul(873,961)who()^&{>when()why()mul(246,793)~)why()& '>?mul(200,670)[what()~/how()why()#)mul(914,790)>mul(296,84)$>)  mul(176,130);from()from()mul(373,460)from()*>@/when()do()mul(663,477)who()~<~:+why()what()mul(675,2)select()from(264,335)'-mul(706,937)^who(),~mul(159,226)+&@;mul(432,401),^],^]]mul(481,229)who()^+?how()who()+mul(785,889)mul(353,752)# ]mul(194,854){>from()(<:(mul(796,423)#+$why()]mul(230,206)(mul(339,962){why():%'select()/^~mul(346,831)from()#{/where()]what()mul(489,415)how()!how();select()  mul(313,553)(from();?&@mul(276,256)'$mul(84,330)/{,;mul(540,534)(^]what(648,915){+-:}how()mul(979,837)who()@{mul(766,495)who()/'+/*<mul(587,194)/how()mul(516,226)',+from()?what()>do()[<'-who())+;mul(552,743)-}&<%%!mul(680,379)'?%(;))mul(713,945)mul(344,235)]<who()[~[('mul(688,707)]?&where()'@mul(508,935)how()]where()select()do()!%]:mul(498,637)'how()& (mul(32,268)~from()from()where()/-@[*who()do()$mul(475,443^% @why()!what()mul(357,992)['mul(926,286){mul(355,744)}mul(410,461);(!:mul(133,384)from()')what()$mul(538,201)mul(336,633)select()why()>^,&%!mul(462,965)where()select()^]when()*from()<#mul(801,899)?why()?,select(){mul(163,717)mul(309,666)!?mul(244,557)[(:mul(590,151):when()from()why()mul(734,459)#[from()@mul(599,980)when(){where()&,^who()>^select()mul(832,947)@-mul(986,539)mul(355,307)-#+mul(854,733)[/({how()*^mul(696,97))+++##what()mul(880,393);??how(958,390)when()(select()^:who()mul(184,872)why() [mul(180,329)what() do()^:,when())when()$~who()mul(457,779)mul(825,607)(from()from()<mul(888,364)#how(){(<})what()[mul(356,842);>-{[%;:$}mul(973,195)* #$from()who()/mul(383,305):]~}+'^what(92,64)mul(360,235who();mul(186,635)[}?,/why()#what()&select()mul(249,256)&/ mul(851,885)?:mul(797@,mul(87,662)what(309,502)$#}-mul(144,693),</from(621,475);who()+-;mul(489,471)select()where(){mul(101,882)mul(399,691) -:mul(203-how()from()when()(}'!from()>mul(148,850)*mul(781,765)select()do()?> @*mul(262^who()[&!mul(557,94)select()do())<how(): ~^mul(978,411)[@how()how() mul(133,168)what()who()when()$@[(@{>mul ?;&why(),mul(285,937)mul(138,969)[/~[mul(580,479)~~^^-mul(880,273)])select()(%[select()why()mul(693,345)()why()!mul(113,820)(?%  mul(362,763);when()mul(321,344)~^){{#how()who() mul(850,506)?;][~@'<when()mul(594,30);>[mul(806,297)# ) @]when()mul(697,524)&[<--+mul(830,463)mul(172,696>how())?mul(52,131)select()how()<mul(939,710)  ~how())?mul(429,147)[-?&}what()}@+~mul(87,386)>^{:%[mul(472,843)<who(579,643)<~,**mul(749,472){from()^?who(46,513)}>who()mul(921,645)+^&how()how()(why()?*~mul(291,7)?+when()$+$&:{~mul(484,416)!+;-+mul(433,280)*!mul(442,92)where()why()where()'):how()}^do()#select();'-&why(13,360)>mul(156,867)who()]how()?<mul(645,208)(mul*select()>how(129,950)+-!where()'mul(883,613)where(436,425)mul(878,282)from()from()]~?select()&{:!mul(329,320):-<?why()>@what()^mul(335,177)$#],^/select()&&from()mul(119,515)^+?~%who():!#mul(620,743):!who()/:@*$/{mul(708what(),-<{who()$what()':how(573,320)mul(85,259)why()who()#-mul(869,677)}]*{mul(6,929)- <mul(613,450),:?*/)#>mul(729,549)}]^,mul(6,598) who()^][mul(104,228);-!mul(28,630){>#what()%}{how()>#mul(827,504)-mul(613,193)who(140,26)[%?select()!]mul(707,956))#]@-:when()@<mul(391,848)?where(361,233)/%;>]who()mul(716,823)mul(619,201)when();:$>,^mul; what(535,875)[<!who(){how()how()mul(484,775)when()who()+~[',mul(611,484);/!who()*how()from()mul(475,311)/{how()^when(428,781)mul(783,439)mul(474,38)mul(188,9)]who()when(192,361)when()how()mul(297,838[{+who() }))select()-how()mul(363,38)+when()~how()[>mul(19,577)(select()* /*where()/?mul(922,251)why():!what()mul(555,531)!&(*{why()-*mul(997,855)mul(301,699)'[@when(32,211)@mul(544,929)/select()from()'select():mul@^[*#who()'~select()<mul(639,724):#;what()how()/when()mul(391,707)+ ^why()&when()$select()~%mul(822#$from()/;<#what(200,13)(@@mul(787,474)&+where()mul(161,733)!~ why()where()mul(730,677)#}]<-:??mul(674,45)?[select()'/;{;>#mul:from(){@''how()}$+[mul(823,4)mul(21,959)*!where(214,815)({>^mul(630,855)<(select()&mul(92,744)where()+from()?#/where(108,36)-mul(636,727)from()@how()@when()/:%how()mul(722,483)*:where()[do()select()*[<;~+$mul(916,381 select()%when()$@mul(782,526)how()select()@&@!/mul(568,269)+~%<(}>how()&mul(568,865)?}(*^-!mul(781,583)* (:^mul(815,903)(:who()what()select():who()^how()(mul(468,302)where()%mul(940,777):<<[#+,mul(185,55)mul(470,850), '-' mul(361,647)mul(629,265)![;mul(259,739)mul(209,270)+where()~#mul(340,946)!how()?]do()'}>mul(675,946),where()mul(316,184)]<'[<*why()*select(597,725)/mul(58,34)/when();:how());mul(60,439)<?from()>who()from()}mul(300,852)mul(278,762)?</}!%mul(461,331how()!%>:}@<why()<mul(961,437)+~)[mul(340,101)!;'from())why()^,!mul(485,861#[/mul(710,417)%' -$&where())what()*mul(91,947)}(do()>?&]mul(46,664)mul(291,306))-{(>mul(332,272)~,how()-mul(800,174)@%how()-where(171,403)mul-( mul(758,259)>what()what()+what()who()why()+@mul(945)&when()]mul(197,968)(?]#!where(876,487)-mul(409,744) /what()](what()mul(228,485)(!select(){(mul(898,295)}why()^<how()(who(233,695)%mul(808,397)^who():mul(871,11)>)?mul(189,119)&mul(564,374))-,:[>mul(866,802)@(++why()/!mul(800,861)mul(657,743)who();* ?mul(785,52){/!when()select(550,561)&(/+*mul(407,66)who()^&mul(455,769)<mul(998,994)'mul(306,933)mul(603,638)why()&mul(262,761)where()?^}mul(631,682)how(483,667)why(490,860)}}~ 'when()>mul(608,695)select()how()#[what()select()^(:mul(559,247)*-mul(684,443)< :)*mul(390,946)how()/,mul(207,219)'''when()^mul(452,554)+<%,%mul(744,656)@~>from(),&!mul(851,699)when(),::%what()do()@/mul(304,149)}/why()$#-,*!what()mul(337,566)&who(109,924)where()*mul(223,512)'; }mul(98,573)do()[[{$/*<]mul<how()where()'mul(819,187),&'(}@how()$what()?mul(348,685)where();how(628,764):!!~mul(930,521)(what(829,497)':}:;;)mul(740,633)mul(679,522)*(<<-(mul(144,935)+*+!mul(216,40)]@(do()mul(912,141)why()from(964,599) where()mul(336,700)mul(865,243)%**how()' when()<[when()mul(349,355)]mul(749,166)%>(,*mul(953,484)]who()select() :}how()!%do()&#-&#mul(367,46)>where():;# %[]&mul(547,568)#^[from(883,557)mul}#!/usr/bin/perl)#-mul(547,116)$^when()mul(370,569)<->from()*>}?^do()>$>{select()%how()select();%mul(551,71)%(,when():)from()when()select()mul(278,290)/ {who();where()$%-mul(843,684)how()'{from()select()mul(607,965) [[/]mul(876,854)#where()where()![}%mul(62,79)from()where()(]+select()]]mul(668,758)>select()what()[who()where()[&!mul(551,543)<from()what()%[[do()?how()});:''}mul(598,746)mul(462@(mul(565,27)who()when()mul(650,760)<{$<:@&select()mul(337,243)~&,(+mul(483,254)what()from()'mul+]::?what()@?$>#mul(924,697)*+<do()!!$,mul(70,420)what()mul(170,21),who()]mul(916,819where()'($#]%from(27,77)/[>mul(807,301)*where(381,893)}where()(+mul(846,431)from()why() %what()why(802,698)?mul(122,673)!:}mul(672,150)~?mul(567,146)?who()&@/*&mul(922,901)]when()>$~{>mul(271,971):)select()who(91,572)~$why(),mul(695,885)where()'#from()from()mul(252,860)>^:who()({])(mul(233,472)who()where(906,494)where()--mul(347,46)}mul&do()mul(968,713)[who(561,712)(/mul(97,572)who();~+why()-mul(942,777)))&^[,where()mul%*)?from()mul(462,688)>how()[++(who()~%@mul(940,121)~- {who()-{why()mul(49,417)mul(353,70)what())?<-from()how()/where():do()select()',<where()select(180,720)mul(117,684)?who()%mul(840,264)who():{+($mul(649,6)who()+mul(232,471^*mul(788,243)where();{'/select()(mul(900what(528,554)[(+&):mul(390,369)>where()<;-@mul(349,121),*[,<!/^;mul(877,679)?[,when()<^mul(81,108)-*@how()[mul(126,985)from()why();}$:,*mul(361,691)^when()[>! *~what()mul(604,91)how(301,723)what()how(67,829)mul(247,535)~~$<~where() #(mul(949,539)+{'&&({why(),mul(578,991)^!who();@select()how()who()@[mul(746,832)%mul(654,124)mul(637,556)-who(983,938)where()#[do():#^when()~$mul(627,260)##;from()@mul(146,672)~where()~mul(661,627)]&#/+mul(634,624))]}how()what()from()@]*&mul(836,150)%;?-#]&&&)mul(243,782){{~:> <where()mul(420,881) [how()do()*mul(609,18)@;who()^>!,mul(17,331)what()<]<<^}from()<$mulwhere()#@mul(276,743)how()&mul(89,923)>~where(769,105)!why();who()mul(188,537)when()(who()where():%?)mul(326,794)when()<,select()<~*{/^mul(106,934)%,&<mul(444<{^mul(690,660)#![who()+<why()}+mul(472,89)^+from() +{mul(902,82){mul(148,406)/[when()from()do()<&mul(889,797)~-when()},mul(93,599),select(890,669)why()mul(344,755)*%from())mul(585,747)%mul(398,764)#from()from())/(%^?}mul(581,877)where()*/%mul(170,622 *%<select()mul(538,578)~:+!?([mul(20,539) (select()++do():~[&(,[!mul(5,120)from()mul(98,868)? {!mul(555,65)?~^when()where()mul(451,352)%<]from(746,31)mul(141,885)-mul(122,934)#who(636,694){>;@%{from()'mul(690,533)<//]when(),(~@from()mul(472,128)#*[mul(143,30)mul(121,540){what(): do()?mul(704,732)($(select()select()~what()mul(88,529)~;)'><^mul(676,840)}~<-what(421,598)*mul(550,833):){$ %mul(921,637)~(@$@how(193,897),:[mul(711,995)select()mul(107,767){&~mul(351,157)?!mul(188,958)}:mul(781,512)what(961,371)^@mul(148,962)where(270,721)!when(),when()>@what()mul(640,811){++-]/]-/mul(7,244){why()~/select():%:mul(842,953)who()$}who()^)mul(265'how()when()mul(39,60)]%mul(399,85)'/[do()what()%)!-'mul(914,243);from()&from()where(349,831)&@mul(360,913)mul(396,166)select()?'when(236,698),%-(select()mul(409,263)>]from()(/mul{where()>!), mul(954,312)>who()where()do(){select() why()mul(317,979)why()^do()mul(132,710)%#}mul )+' $mul(989,387)+:~%>(mul(209,606)what()<)*#:mul(37,222);)!why(756,194)'mul(604,71)?+ +what()$]@do()]'/(,mul(195,769){how()##;!%*)do()#what()]why()how()mul(297,179)#how()[&}:#select(),mul(111,570)~']why(641,197)what()^mul(923,44)$where():who()^ why()?,\n"
     ]
    },
    {
     "data": {
      "text/plain": [
       "(173731097, 93729253)"
      ]
     },
     "execution_count": 11,
     "metadata": {},
     "output_type": "execute_result"
    }
   ],
   "source": [
    "import numpy as np\n",
    "import utils\n",
    "import re\n",
    "\n",
    "def a(input):\n",
    "    r1 = \"mul\\(\\d+,\\d+\\)\"\n",
    "    r2 = \"\\d+\"\n",
    "\n",
    "    if isinstance(input, list):\n",
    "        s = \"\".join(input)\n",
    "    else:\n",
    "        s = input\n",
    "\n",
    "    muls = re.findall(r1, s)\n",
    "    res = 0\n",
    "    for mul in muls:\n",
    "        a, b = re.findall(r2, mul)\n",
    "        res += int(a)*int(b)\n",
    "    return res\n",
    "\n",
    "\n",
    "    \n",
    "\n",
    "def b(input):\n",
    "    r = \"don't.*?(?=do\\(\\))\"\n",
    "    if isinstance(input, list):\n",
    "        s = \"\".join(input)\n",
    "    else:\n",
    "        s = input\n",
    "\n",
    "    s = re.sub(r, '', s)\n",
    "    print(s)\n",
    "    return a(s)\n",
    "\n",
    "\n",
    "\n",
    "a(utils.read_file_content('day3')), b(utils.read_file_content('day3')),"
   ]
  },
  {
   "cell_type": "code",
   "execution_count": 7,
   "metadata": {},
   "outputs": [
    {
     "data": {
      "text/plain": [
       "6"
      ]
     },
     "execution_count": 7,
     "metadata": {},
     "output_type": "execute_result"
    }
   ],
   "source": [
    "len(utils.read_file_content('day3'))"
   ]
  }
 ],
 "metadata": {
  "kernelspec": {
   "display_name": ".venv",
   "language": "python",
   "name": "python3"
  },
  "language_info": {
   "codemirror_mode": {
    "name": "ipython",
    "version": 3
   },
   "file_extension": ".py",
   "mimetype": "text/x-python",
   "name": "python",
   "nbconvert_exporter": "python",
   "pygments_lexer": "ipython3",
   "version": "3.11.2"
  }
 },
 "nbformat": 4,
 "nbformat_minor": 2
}
