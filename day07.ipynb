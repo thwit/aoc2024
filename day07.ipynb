{
 "cells": [
  {
   "cell_type": "code",
   "execution_count": 21,
   "metadata": {},
   "outputs": [],
   "source": [
    "import numpy as np\n",
    "import utils"
   ]
  },
  {
   "cell_type": "code",
   "execution_count": 32,
   "metadata": {},
   "outputs": [],
   "source": [
    "input = utils.read_file_content_raw('day7')\n",
    "test = []\n",
    "nums = []\n",
    "\n",
    "for line in input.split('\\n'):\n",
    "    t, n = line.split(':')\n",
    "    test.append(int(t))\n",
    "    nums.append(list(map(int, n.split())))"
   ]
  },
  {
   "cell_type": "code",
   "execution_count": 33,
   "metadata": {},
   "outputs": [
    {
     "data": {
      "text/plain": [
       "95297119227552"
      ]
     },
     "execution_count": 33,
     "metadata": {},
     "output_type": "execute_result"
    }
   ],
   "source": [
    "def comp(test, result, rest):\n",
    "    if not rest and result == test:\n",
    "        return True\n",
    "    if not rest and result != test:\n",
    "        return False\n",
    "    if result > test:\n",
    "        return False\n",
    "    \n",
    "    plus = comp(test, result+rest[0], rest[1:])\n",
    "    mult = comp(test, result*rest[0], rest[1:])\n",
    "    conc = comp(test, int(str(result)+str(rest[0])), rest[1:])\n",
    "\n",
    "    return max(plus, mult, conc)\n",
    "    \n",
    "def a(test, nums):\n",
    "    res = 0\n",
    "\n",
    "    for test, ns in zip(test, nums):\n",
    "        if comp(test, 0, ns):\n",
    "            res += test\n",
    "\n",
    "    return res\n",
    "            \n",
    "a(test, nums)"
   ]
  }
 ],
 "metadata": {
  "kernelspec": {
   "display_name": ".venv",
   "language": "python",
   "name": "python3"
  },
  "language_info": {
   "codemirror_mode": {
    "name": "ipython",
    "version": 3
   },
   "file_extension": ".py",
   "mimetype": "text/x-python",
   "name": "python",
   "nbconvert_exporter": "python",
   "pygments_lexer": "ipython3",
   "version": "3.11.2"
  }
 },
 "nbformat": 4,
 "nbformat_minor": 2
}
