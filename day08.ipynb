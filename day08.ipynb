{
 "cells": [
  {
   "cell_type": "code",
   "execution_count": 2,
   "metadata": {},
   "outputs": [],
   "source": [
    "import numpy as np\n",
    "import utils"
   ]
  },
  {
   "cell_type": "code",
   "execution_count": 87,
   "metadata": {},
   "outputs": [],
   "source": [
    "grid = utils.read_file_content_raw('day8')\n",
    "grid = list(map(list, grid.split()))\n",
    "\n",
    "antennas = {}\n",
    "\n",
    "for i in range(len(grid)):\n",
    "    for j in range(len(grid[i])):\n",
    "        c = grid[i][j]\n",
    "\n",
    "        if c == \".\":\n",
    "            continue\n",
    "\n",
    "        if c in antennas:\n",
    "            antennas[c].append((i,j))\n",
    "        else:\n",
    "            antennas[c] = [(i,j)]"
   ]
  },
  {
   "cell_type": "code",
   "execution_count": 91,
   "metadata": {},
   "outputs": [
    {
     "name": "stdout",
     "output_type": "stream",
     "text": [
      "1174\n"
     ]
    }
   ],
   "source": [
    "def a(G, antennas):\n",
    "    antinodes = set()\n",
    "\n",
    "    for freq in antennas.keys():\n",
    "        for a1 in antennas[freq]:\n",
    "            for a2 in antennas[freq]:\n",
    "                if a1 == a2:\n",
    "                    continue\n",
    "                \n",
    "                dx = a1[0]-a2[0]\n",
    "                dy = a1[1]-a2[1]\n",
    "                \n",
    "                anti1 = (a1[0] + 1 * dx, a1[1] + 1 * dy)\n",
    "                anti2 = (a2[0] - 1 * dx, a2[1] - 1 * dy)\n",
    "\n",
    "                for a in [anti1, anti2]:\n",
    "                    if a[0] < 0 or a[0] >= len(G[0]) or a[1] < 0 or a[1] >= len(G[0]):\n",
    "                        continue\n",
    "                    antinodes.add(a)\n",
    "    \n",
    "    return len(antinodes), antinodes\n",
    "\n",
    "def b(G, antennas):\n",
    "    antinodes = set()\n",
    "\n",
    "    for freq in antennas.keys():\n",
    "        for a1 in antennas[freq]:\n",
    "            for a2 in antennas[freq]:\n",
    "                if a1 == a2:\n",
    "                    continue\n",
    "                \n",
    "                dx = a1[0]-a2[0]\n",
    "                dy = a1[1]-a2[1]\n",
    "                \n",
    "                for step in range(-80, 80):\n",
    "                    anti1 = (a1[0] + step * dx, a1[1] + step * dy)\n",
    "                    anti2 = (a2[0] - step * dx, a2[1] - step * dy)\n",
    "\n",
    "                    for a in [anti1, anti2]:\n",
    "                        if a[0] < 0 or a[0] >= len(G[0]) or a[1] < 0 or a[1] >= len(G[0]):\n",
    "                            continue\n",
    "                        antinodes.add(a)\n",
    "    \n",
    "    return len(antinodes), antinodes\n",
    "\n",
    "\n",
    "res, antinodes = a(grid, antennas)\n",
    "res, antinodes = b(grid, antennas)\n",
    "\n",
    "G = np.array(grid)\n",
    "\n",
    "\n",
    "\n",
    "print(res)"
   ]
  }
 ],
 "metadata": {
  "kernelspec": {
   "display_name": ".venv",
   "language": "python",
   "name": "python3"
  },
  "language_info": {
   "codemirror_mode": {
    "name": "ipython",
    "version": 3
   },
   "file_extension": ".py",
   "mimetype": "text/x-python",
   "name": "python",
   "nbconvert_exporter": "python",
   "pygments_lexer": "ipython3",
   "version": "3.11.2"
  }
 },
 "nbformat": 4,
 "nbformat_minor": 2
}
