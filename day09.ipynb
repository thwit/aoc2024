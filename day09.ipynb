{
 "cells": [
  {
   "cell_type": "code",
   "execution_count": 1,
   "metadata": {},
   "outputs": [],
   "source": [
    "import numpy as np\n",
    "import utils"
   ]
  },
  {
   "cell_type": "code",
   "execution_count": 20,
   "metadata": {},
   "outputs": [],
   "source": [
    "input = utils.read_file_content_raw('day9')\n",
    "\n",
    "disk = list(map(int, list(input)))\n",
    "files = [(i, size) for i, size in enumerate(disk[::2])]\n",
    "free = disk[1::2]\n",
    "\n",
    "idx = 0\n",
    "\n",
    "expanded = []\n",
    "filespace = []\n",
    "for i in range(len(disk)):\n",
    "    if i % 2 == 0:\n",
    "        expanded.extend([str(idx)] * disk[i])\n",
    "        filespace.append((idx, disk[i]))\n",
    "        idx += 1\n",
    "    else:\n",
    "        expanded.extend([\".\"] * disk[i])\n",
    "        filespace.append((-1, disk[i]))\n"
   ]
  },
  {
   "cell_type": "code",
   "execution_count": null,
   "metadata": {},
   "outputs": [],
   "source": [
    "def a(e):\n",
    "    i = 0\n",
    "    j = len(e)-1\n",
    "    while i != j:\n",
    "        if e[i] == '.' and e[j] != '.':\n",
    "            e[i] = e[j]\n",
    "            e[j] = '.'\n",
    "            i += 1\n",
    "            j -= 1\n",
    "        elif e[i] != '.':\n",
    "            i += 1\n",
    "        elif e[j] == '.':\n",
    "            j -= 1\n",
    "\n",
    "    return sum([i*int(s) for i, s in enumerate(e) if s.isdigit()])\n",
    "    \n",
    "def b(e):\n",
    "    i = 0\n",
    "    j = len(e)-1\n",
    "    while i != j:\n",
    "        if e[i] == '.' and e[j] != '.':\n",
    "            lsize \n",
    "            e[i] = e[j]\n",
    "            e[j] = '.'\n",
    "            i += 1\n",
    "            j -= 1\n",
    "        elif e[i] != '.':\n",
    "            i += 1\n",
    "        elif e[j] == '.':\n",
    "            j -= 1\n",
    "\n",
    "    return sum([i*int(s) for i, s in enumerate(e) if s.isdigit()])\n",
    "\n",
    "\n",
    "a(expanded.copy())\n",
    "b(expanded.copy())"
   ]
  },
  {
   "cell_type": "code",
   "execution_count": 21,
   "metadata": {},
   "outputs": [
    {
     "name": "stdout",
     "output_type": "stream",
     "text": [
      "[(0, 2), (-1, 3), (1, 3), (-1, 3), (2, 1), (-1, 3), (3, 3), (-1, 1), (4, 2), (-1, 1), (5, 4), (-1, 1), (6, 4), (-1, 1), (7, 3), (-1, 1), (8, 4), (-1, 0), (9, 2)]\n"
     ]
    }
   ],
   "source": [
    "print(filespace)"
   ]
  }
 ],
 "metadata": {
  "kernelspec": {
   "display_name": ".venv",
   "language": "python",
   "name": "python3"
  },
  "language_info": {
   "codemirror_mode": {
    "name": "ipython",
    "version": 3
   },
   "file_extension": ".py",
   "mimetype": "text/x-python",
   "name": "python",
   "nbconvert_exporter": "python",
   "pygments_lexer": "ipython3",
   "version": "3.11.2"
  }
 },
 "nbformat": 4,
 "nbformat_minor": 2
}
